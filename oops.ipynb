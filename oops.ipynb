{
 "cells": [
  {
   "cell_type": "code",
   "execution_count": null,
   "id": "e8a6aff7-21e0-4054-b895-4d6139b489d0",
   "metadata": {},
   "outputs": [],
   "source": [
    "Q1. What is Abstraction in OOps? Explain with an example"
   ]
  },
  {
   "cell_type": "code",
   "execution_count": null,
   "id": "d78b9b58-c215-4773-a4f4-70c6a42580ee",
   "metadata": {},
   "outputs": [],
   "source": [
    "ans. Abtration is one of the key concept of object oriented programing(oop) languages.\n",
    "     its maine goel is to handle complexity by hidding the unnecessay details from the user.\n",
    "     this is very generic concept that's not limited to object oriented programing.\n",
    "     you can find it any where in real word   "
   ]
  },
  {
   "cell_type": "code",
   "execution_count": 8,
   "id": "ad0262d8-3935-4c23-b83c-56212782c6a1",
   "metadata": {},
   "outputs": [
    {
     "name": "stdout",
     "output_type": "stream",
     "text": [
      "==============CALCULATOR==============\n"
     ]
    },
    {
     "name": "stdin",
     "output_type": "stream",
     "text": [
      "ENTER THE FIRST VALUE: 11\n",
      "ENTER THE SECOND VALUE: 11\n"
     ]
    },
    {
     "name": "stdout",
     "output_type": "stream",
     "text": [
      "press 1 for addition(+)\n",
      " press 2 for subtraction(-)\n",
      " press 3 for multiplication(*)\n",
      " press 4 for divided(/)\n"
     ]
    },
    {
     "name": "stdin",
     "output_type": "stream",
     "text": [
      "==>   1\n"
     ]
    },
    {
     "name": "stdout",
     "output_type": "stream",
     "text": [
      "22\n"
     ]
    }
   ],
   "source": [
    "def calculation():\n",
    "    print(\"==============CALCULATOR==============\")\n",
    "    x = int(input(\"ENTER THE FIRST VALUE:\"))\n",
    "    y = int(input(\"ENTER THE SECOND VALUE:\"))\n",
    "    \n",
    "    print(\"press 1 for addition(+)\\n press 2 for subtraction(-)\\n press 3 for multiplication(*)\\n press 4 for divided(/)\")\n",
    "    option = int(input(\"==>  \"))\n",
    "    def add():\n",
    "        res = x+y\n",
    "        print(res)\n",
    "    def sub():\n",
    "        res = x-y\n",
    "        print(res)\n",
    "    def mul():\n",
    "        res = x*y\n",
    "        print(res)\n",
    "    def div():\n",
    "        res = x/y\n",
    "        print(res)\n",
    "    if(option==1):\n",
    "        add()\n",
    "    elif(option==2):\n",
    "        sub()\n",
    "    elif(option==3):\n",
    "        mul()\n",
    "    elif(option==4):\n",
    "        div()\n",
    "        \n",
    "        \n",
    "      \n",
    "    \n",
    "    \n",
    "calculation()    \n",
    "    \n",
    "       \n",
    "    "
   ]
  },
  {
   "cell_type": "code",
   "execution_count": null,
   "id": "4be9876c-955f-40f3-8327-2d2bf311c8b1",
   "metadata": {},
   "outputs": [],
   "source": [
    "Q2. Differentiate between Abstraction and Encapsulation. Explain with an example."
   ]
  },
  {
   "cell_type": "code",
   "execution_count": null,
   "id": "746ee61d-ddde-455f-ae38-a9458e8748ff",
   "metadata": {},
   "outputs": [],
   "source": [
    "Abstraction and encapsulation are two fundamental concepts in object-oriented programming that are often used together to create robust and maintainable software.\n",
    "\n",
    "Abstraction is the process of focusing on the essential features of an object or system while ignoring unnecessary details. \n",
    "It involves creating a simplified representation of an object that only includes the most important attributes and behaviors.\n",
    "Abstraction is used to reduce complexity and make it easier to work with complex systems.\n",
    "\n",
    "For example, consider a car. \n",
    "From a high-level perspective, we only need to know certain information about the car, such as its make, model, and year, its top speed, and its fuel efficiency.\n",
    "We don't need to know every little detail about how the car works, such as the size of the engine, the exact number of cylinders, or the individual torque values for each wheel.\n",
    "By focusing on the most important features of the car, we can create a simplified abstraction of the car that is easier to work with and understand.\n",
    "\n",
    "Encapsulation, on the other hand, is the process of hiding the internal details of an object or system and exposing only the necessary interfaces or methods for interacting with it.\n",
    "Encapsulation involves bundling the data and the methods that operate on that data into a single unit, called a class. \n",
    "The class exposes a public interface, which can be used to interact with the object, while keeping the implementation details hidden.\n",
    "\n",
    "For example, consider a bank account. The bank account object may contain data such as the account holder's name, account number, and balance, as well as methods for depositing and withdrawing money. \n",
    "By encapsulating the data and methods into a single class, we can control how the object is accessed and ensure that the data is protected from unauthorized access or modification. \n",
    "The public interface of the class may include methods such as deposit() and withdraw(),which can be used to interact with the object, while the internal implementation details are kept hidden from the user."
   ]
  },
  {
   "cell_type": "code",
   "execution_count": null,
   "id": "8b496aa7-cf34-4ab5-ad91-af57e3110396",
   "metadata": {},
   "outputs": [],
   "source": [
    "Q3. What is abc module in python? Why is it used?"
   ]
  },
  {
   "cell_type": "code",
   "execution_count": null,
   "id": "c7e7cffe-538b-47c4-87a4-7a0377202b7c",
   "metadata": {},
   "outputs": [],
   "source": [
    "The abc module in Python stands for Abstract Base Classes.\n",
    "It provides a way to define abstract classes and abstract methods in Python.\n",
    "An abstract class is a class that cannot be instantiated and is intended to be subclassed.\n",
    "Abstract methods are methods that have a declaration but no implementation. \n",
    "Subclasses of an abstract class must provide an implementation for all abstract methods."
   ]
  },
  {
   "cell_type": "code",
   "execution_count": null,
   "id": "8ef79f62-61bb-4e50-b46a-72364e16dc93",
   "metadata": {},
   "outputs": [],
   "source": [
    "Here's a simple example of how the abc module can be used to define an abstract class with an abstract method:"
   ]
  },
  {
   "cell_type": "code",
   "execution_count": null,
   "id": "d93adc4c-66f7-4fff-9907-22b2c2ff4e2f",
   "metadata": {},
   "outputs": [],
   "source": [
    "import abc\n",
    "\n",
    "class MyAbstractClass(metaclass=abc.ABCMeta):\n",
    "    @abc.abstractmethod\n",
    "    def my_method(self):\n",
    "        pass\n"
   ]
  },
  {
   "cell_type": "code",
   "execution_count": null,
   "id": "75488976-8f3c-49ea-bc5b-e758162cf934",
   "metadata": {},
   "outputs": [],
   "source": [
    "Q4. How can we achieve data abstraction?"
   ]
  },
  {
   "cell_type": "code",
   "execution_count": null,
   "id": "3a0ec4d2-326d-4f60-a1ca-505a60566454",
   "metadata": {},
   "outputs": [],
   "source": [
    "Data abstraction can be achieved in programming through a combination of encapsulation and abstraction techniques. \n",
    "Encapsulation refers to the process of hiding implementation details and exposing only the essential features of an object or class, \n",
    "while abstraction involves defining the essential features of an object or class without including implementation details.\n",
    "\n",
    "Here are some ways to achieve data abstraction:\n",
    "\n",
    "Define a clear interface: Define an interface for your class or object that clearly describes its behavior and functionality. \n",
    "This interface should be separate from the implementation details of the class, and should be easy for other developers to use and understand.\n",
    "\n",
    "Use access modifiers: Use access modifiers such as private, public, and protected to control access to the data members of a class. \n",
    "This helps to prevent unwanted changes to the data and ensures that the class behaves as intended.\n",
    "\n",
    "Use abstract classes and interfaces: \n",
    "    Use abstract classes and interfaces to define the essential features of a class or object without including implementation details.\n",
    "This allows other developers to use your code without having to worry about the implementation details.\n",
    "\n",
    "Encapsulate data: Encapsulate data by defining getter and setter methods for the data members of a class. \n",
    "This helps to ensure that the data is accessed and modified in a controlled way, and prevents unwanted changes to the data.\n",
    "\n",
    "By using these techniques, you can achieve data abstraction in your code, which makes it easier to use, maintain, and modify."
   ]
  },
  {
   "cell_type": "code",
   "execution_count": null,
   "id": "d4946b28-51ba-4313-8046-585b626d5a6d",
   "metadata": {},
   "outputs": [],
   "source": [
    "Q5. Can we create an instance of an abstract class? Explain your answer."
   ]
  },
  {
   "cell_type": "code",
   "execution_count": null,
   "id": "a0f8885e-cb2e-4d39-8dc0-5567f3c3b8b6",
   "metadata": {},
   "outputs": [],
   "source": [
    "No, we cannot create an instance of an abstract class in Python. An abstract class is a class that contains one or more abstract methods, which are methods that have a declaration but no implementation. An abstract class is intended to be subclassed, and any subclass of an abstract class must implement all of the abstract methods in the parent class.\n",
    "\n",
    "Because an abstract class is incomplete and is not intended to be instantiated on its own, Python prevents us from creating an instance of an abstract class. If we try to create an instance of an abstract class, we will get a TypeError.\n",
    "\n",
    "Here is an example that demonstrates this:"
   ]
  }
 ],
 "metadata": {
  "kernelspec": {
   "display_name": "Python 3 (ipykernel)",
   "language": "python",
   "name": "python3"
  },
  "language_info": {
   "codemirror_mode": {
    "name": "ipython",
    "version": 3
   },
   "file_extension": ".py",
   "mimetype": "text/x-python",
   "name": "python",
   "nbconvert_exporter": "python",
   "pygments_lexer": "ipython3",
   "version": "3.10.8"
  }
 },
 "nbformat": 4,
 "nbformat_minor": 5
}
